{
 "cells": [
  {
   "cell_type": "markdown",
   "metadata": {},
   "source": [
    "# Leabra Units "
   ]
  },
  {
   "cell_type": "markdown",
   "metadata": {},
   "source": [
    "This notebook recreates the [\"Units\" tutorial of Chapter 2 of the CECN1 textbook](https://grey.colorado.edu/CompCogNeuro/index.php/CECN1_Units). It uses the Leabra framework corresponding to [emergent](https://grey.colorado.edu/emergent) 5.0. "
   ]
  },
  {
   "cell_type": "code",
   "execution_count": null,
   "metadata": {
    "collapsed": false
   },
   "outputs": [],
   "source": [
    "import leabra\n",
    "import graphs"
   ]
  },
  {
   "cell_type": "code",
   "execution_count": null,
   "metadata": {
    "collapsed": true
   },
   "outputs": [],
   "source": [
    "receiver = leabra.Unit()"
   ]
  },
  {
   "cell_type": "code",
   "execution_count": null,
   "metadata": {
    "collapsed": false
   },
   "outputs": [],
   "source": [
    "receiver.show_config()"
   ]
  },
  {
   "cell_type": "markdown",
   "metadata": {},
   "source": [
    "To make things as simple as possible, we do not use a sender unit or a network instance. Instead, we manually provide inputs to the receiver unit. The simulation last 200ms. All inputs are 0.0, exepts every input between 10ms and 160ms, which are 1.0."
   ]
  },
  {
   "cell_type": "code",
   "execution_count": null,
   "metadata": {
    "collapsed": false
   },
   "outputs": [],
   "source": [
    "inputs = 10*[0.0] + 150*[1.0] + 40*[0.0]\n",
    "\n",
    "for g_e in inputs:\n",
    "    receiver.add_excitatory(g_e)\n",
    "    receiver.cycle()"
   ]
  },
  {
   "cell_type": "markdown",
   "metadata": {},
   "source": [
    "We can monitor the excitatory input the unit receives (`net`), its membrane potential (`v_m`), its total conductance (`I_net`) and its ouput activity (`act`). "
   ]
  },
  {
   "cell_type": "code",
   "execution_count": null,
   "metadata": {
    "collapsed": false
   },
   "outputs": [],
   "source": [
    "graphs.unit_activity(receiver.logs)"
   ]
  },
  {
   "cell_type": "markdown",
   "metadata": {},
   "source": [
    "## Manipulating Parameters"
   ]
  },
  {
   "cell_type": "markdown",
   "metadata": {},
   "source": [
    "You can use sliders to easily modify the `g_e_bar`, `g_l_bar`, `e_rev_e` and `e_rev_l`as in the [CECN1 tutorial](https://grey.colorado.edu/CompCogNeuro/index.php/CECN1_Units#Manipulating_Parameters). Do refer to the tutorial for a discussion about interesting this to try with those parameters."
   ]
  },
  {
   "cell_type": "code",
   "execution_count": null,
   "metadata": {
    "collapsed": false
   },
   "outputs": [],
   "source": [
    "figdata = graphs.unit_activity_interactive(receiver.logs)\n",
    "\n",
    "# sliders\n",
    "g_bar_e_slider = graphs.floatslider(min=0.0, max=1.0, step=0.01, value=0.40)\n",
    "g_bar_l_slider = graphs.floatslider(min=0.0, max=4.0, step=0.01, value=2.80)\n",
    "e_rev_e_slider = graphs.floatslider(min=0.0, max=1.0, step=0.01, value=1.00)\n",
    "e_rev_l_slider = graphs.floatslider(min=0.1, max=0.3, step=0.001, value=0.15)\n",
    "\n",
    "def regenerate_activity(g_bar_e, g_bar_l, e_rev_e, e_rev_l):\n",
    "    \"\"\"Recompute the graph with given paremeters values\"\"\"\n",
    "    receiver = leabra.Unit()\n",
    "    receiver.spec.g_bar_e = g_bar_e\n",
    "    receiver.spec.g_bar_l = g_bar_l\n",
    "    receiver.spec.e_rev_e = e_rev_e\n",
    "    receiver.spec.e_rev_l = e_rev_l\n",
    "    \n",
    "    for g_e in inputs:\n",
    "        receiver.add_excitatory(g_e)\n",
    "        receiver.cycle()\n",
    "        \n",
    "    graphs.unit_activity_interactive(receiver.logs, figdata=figdata)"
   ]
  },
  {
   "cell_type": "code",
   "execution_count": null,
   "metadata": {
    "collapsed": false
   },
   "outputs": [],
   "source": [
    "graphs.interact(regenerate_activity, g_bar_e=g_bar_e_slider, g_bar_l=g_bar_l_slider, \n",
    "                                     e_rev_e=e_rev_e_slider, e_rev_l=e_rev_l_slider)"
   ]
  },
  {
   "cell_type": "markdown",
   "metadata": {},
   "source": [
    " "
   ]
  }
 ],
 "metadata": {
  "kernelspec": {
   "display_name": "Python 3",
   "language": "python",
   "name": "python3"
  },
  "language_info": {
   "codemirror_mode": {
    "name": "ipython",
    "version": 3
   },
   "file_extension": ".py",
   "mimetype": "text/x-python",
   "name": "python",
   "nbconvert_exporter": "python",
   "pygments_lexer": "ipython3",
   "version": "3.5.2"
  },
  "widgets": {
   "state": {
    "7f6859177c4144a0a2fb77d62c469c15": {
     "views": [
      {
       "cell_index": 12
      }
     ]
    }
   },
   "version": "1.2.0"
  }
 },
 "nbformat": 4,
 "nbformat_minor": 0
}
