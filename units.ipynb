{
 "cells": [
  {
   "cell_type": "markdown",
   "metadata": {},
   "source": [
    "# Leabra Units "
   ]
  },
  {
   "cell_type": "markdown",
   "metadata": {},
   "source": [
    "This notebook recreates the [\"Units\" tutorial of Chapter 2 of the CECN1 textbook](https://grey.colorado.edu/CompCogNeuro/index.php/CECN1_Units). It uses the Leabra framework corresponding to [emergent](https://grey.colorado.edu/emergent) 5.0. "
   ]
  },
  {
   "cell_type": "code",
   "execution_count": null,
   "metadata": {
    "collapsed": false
   },
   "outputs": [],
   "source": [
    "import leabra\n",
    "import graphs"
   ]
  },
  {
   "cell_type": "code",
   "execution_count": null,
   "metadata": {
    "collapsed": true
   },
   "outputs": [],
   "source": [
    "receiver = leabra.Unit()"
   ]
  },
  {
   "cell_type": "code",
   "execution_count": null,
   "metadata": {
    "collapsed": false
   },
   "outputs": [],
   "source": [
    "receiver.show_config()"
   ]
  },
  {
   "cell_type": "markdown",
   "metadata": {},
   "source": [
    "To make things as simple as possible, we do not use a sender unit or a network instance. Instead, we manually provide inputs to the receiver unit. The simulation last 200ms. All inputs are 0.0, exepts every input between 10ms and 160ms, which are 1.0."
   ]
  },
  {
   "cell_type": "code",
   "execution_count": null,
   "metadata": {
    "collapsed": false
   },
   "outputs": [],
   "source": [
    "inputs = 10*[0.0] + 150*[1.0] + 40*[0.0]\n",
    "\n",
    "for g_e in inputs:\n",
    "    receiver.cycle(g_e)"
   ]
  },
  {
   "cell_type": "markdown",
   "metadata": {},
   "source": [
    "We can monitor the excitatory input the unit receives (`net`), its membrane potential (`v_m`), its total conductance (`I_net`) and its ouput activity (`act`). "
   ]
  },
  {
   "cell_type": "code",
   "execution_count": null,
   "metadata": {
    "collapsed": false
   },
   "outputs": [],
   "source": [
    "graphs.unit_activity(receiver.logs)"
   ]
  },
  {
   "cell_type": "markdown",
   "metadata": {},
   "source": [
    "## Manipulating Parameters"
   ]
  },
  {
   "cell_type": "markdown",
   "metadata": {},
   "source": [
    "You can use sliders to easily modify the `g_e_bar`, `g_l_bar`, `e_rev_e` and `e_rev_l`as in the [CECN1 tutorial](https://grey.colorado.edu/CompCogNeuro/index.php/CECN1_Units#Manipulating_Parameters). Do refer to the tutorial for a discussion about interesting this to try with those parameters."
   ]
  },
  {
   "cell_type": "code",
   "execution_count": null,
   "metadata": {
    "collapsed": false
   },
   "outputs": [],
   "source": [
    "figdata = graphs.unit_activity_interactive(receiver.logs)\n",
    "\n",
    "# sliders\n",
    "g_bar_e_slider = graphs.floatslider(min=0.0, max=1.0, step=0.01, value=0.40)\n",
    "g_bar_l_slider = graphs.floatslider(min=0.0, max=4.0, step=0.01, value=2.80)\n",
    "e_rev_e_slider = graphs.floatslider(min=0.0, max=1.0, step=0.01, value=1.00)\n",
    "e_rev_l_slider = graphs.floatslider(min=0.1, max=0.3, step=0.001, value=0.15)\n",
    "\n",
    "def regenerate_activity(g_bar_e, g_bar_l, e_rev_e, e_rev_l):\n",
    "    \"\"\"Recompute the graph with given paremeters values\"\"\"\n",
    "    receiver = leabra.Unit()\n",
    "    receiver.cst.g_bar_e = g_bar_e\n",
    "    receiver.cst.g_bar_l = g_bar_l\n",
    "    receiver.cst.e_rev_e = e_rev_e\n",
    "    receiver.cst.e_rev_l = e_rev_l\n",
    "    \n",
    "    for g_e in inputs:\n",
    "        receiver.cycle(g_e)\n",
    "        \n",
    "    graphs.unit_activity_interactive(receiver.logs, figdata=figdata)"
   ]
  },
  {
   "cell_type": "code",
   "execution_count": null,
   "metadata": {
    "collapsed": false
   },
   "outputs": [],
   "source": [
    "graphs.interact(regenerate_activity, g_bar_e=g_bar_e_slider, g_bar_l=g_bar_l_slider, \n",
    "                                     e_rev_e=e_rev_e_slider, e_rev_l=e_rev_l_slider)"
   ]
  },
  {
   "cell_type": "markdown",
   "metadata": {},
   "source": []
  }
 ],
 "metadata": {
  "kernelspec": {
   "display_name": "Python 3",
   "language": "python",
   "name": "python3"
  },
  "language_info": {
   "codemirror_mode": {
    "name": "ipython",
    "version": 3
   },
   "file_extension": ".py",
   "mimetype": "text/x-python",
   "name": "python",
   "nbconvert_exporter": "python",
   "pygments_lexer": "ipython3",
   "version": "3.5.2"
  },
  "widgets": {
   "state": {
    "003c2e540fe344a8bee9f6e416f4c003": {
     "views": []
    },
    "0043caa450f642879d0d0f3155bb17d3": {
     "views": []
    },
    "007683bd80224748be0c022e954094a6": {
     "views": [
      {
       "cell_index": 12
      }
     ]
    },
    "0133282c2a1647f5a9df5606fd900681": {
     "views": []
    },
    "017936be5b5b4467bc1965a3f88ac793": {
     "views": []
    },
    "01e1df26a52b450696643e1985300821": {
     "views": []
    },
    "0213d027fa5f437185594f571922c6b6": {
     "views": []
    },
    "027e08cd986f4ea3b5f6552564cd38b4": {
     "views": []
    },
    "0281c3281b8b4375b50c35cef6df98f4": {
     "views": []
    },
    "02978a73328740ae99a65cdd6bccc3ea": {
     "views": []
    },
    "0304ea53f1264dcbbc64d6c2766f1066": {
     "views": []
    },
    "06266a0eaa5447fb869541c43c51047b": {
     "views": []
    },
    "06d7dda3aea448eca882b9fc34f3bdff": {
     "views": []
    },
    "07c7771439264c10b7e5dff246d2d20c": {
     "views": []
    },
    "085fa82c3d8a45c79145fb99a8275e96": {
     "views": []
    },
    "08864a8568364dc498dd5a174f7a7b80": {
     "views": []
    },
    "09be32ade0f742b0b4d8c95eafb86ce4": {
     "views": []
    },
    "0c5b6df9ef0e4e77b54906c3fbda8c6b": {
     "views": []
    },
    "0dff5beb4a0b4779ab091556388b772b": {
     "views": []
    },
    "0e0afb701e1247a1a93ed9e2129a9b9a": {
     "views": []
    },
    "0f893aa632d24c5ead46e189c68e9397": {
     "views": []
    },
    "0f9967b34ea5498a9797fc2ecb2cb85c": {
     "views": []
    },
    "0f9e6f76b2f64f1390f3adead50eb10b": {
     "views": []
    },
    "0fd5c1f612264f02baa242d1eff5871d": {
     "views": []
    },
    "0ff9a42ff9db47d99813f887fde58554": {
     "views": []
    },
    "101b53f50de2450ba6b07164e2d45503": {
     "views": []
    },
    "10b86cafcd504dbaa463852097f02b8b": {
     "views": []
    },
    "114ae45f4c2c49a2b519d615cf02b14b": {
     "views": []
    },
    "122ff2d2da234148bb19f22241ef624f": {
     "views": []
    },
    "13cc4ec8fe324047b632dd394726ca63": {
     "views": []
    },
    "15333be831c74b9698a631d74419f19e": {
     "views": []
    },
    "15376cc9c2444226be999ea6177cfc33": {
     "views": []
    },
    "156187c2bcc64c56acad08e479947567": {
     "views": []
    },
    "15e5b1af6b274dcaa237cb77659029eb": {
     "views": []
    },
    "183415d628bf46c5ad0d68183b784fa9": {
     "views": []
    },
    "1a0f9e15a83144509560b53c9417127d": {
     "views": []
    },
    "1c375bc632a0474b93d0bf5254d5fb1c": {
     "views": []
    },
    "1c52958c052b4bc8942dcba874f861f5": {
     "views": []
    },
    "1c604274509a4e479ec54f56bc485b15": {
     "views": []
    },
    "1d414bafb3cf4cdcaa47d469b4ee2cde": {
     "views": []
    },
    "1d62abe1da3a499eb98f334a21020744": {
     "views": []
    },
    "1dcdbf9b7545435795e9e2fcd0d1055e": {
     "views": []
    },
    "1de19898f83f4524baff776ed43832cc": {
     "views": []
    },
    "1e49ef250aaa4876bae04ab9f9f280a6": {
     "views": []
    },
    "1e4d18f0734b4fb19551b05dac503e25": {
     "views": []
    },
    "2083e11ffce5487ab29510594d5f6f6d": {
     "views": []
    },
    "2117f799d0ab4c85bd9c2e3fea3e6692": {
     "views": []
    },
    "214e96d186994a3cb2564324d34e14c9": {
     "views": []
    },
    "218d78cd96ca4d1db8c1473120422bff": {
     "views": []
    },
    "236ebe8c5df14df594e7b2b058ae33f3": {
     "views": []
    },
    "23f2c1e2374242a8bd996ab2bc6b5173": {
     "views": []
    },
    "2446f892527d4836b8522356c5ffbbb2": {
     "views": []
    },
    "24f0bddc43e947aea89dcddc4e81138b": {
     "views": []
    },
    "25f31ded4d2c4c3fae7de28202c95f0c": {
     "views": []
    },
    "261e1a2a1cdc4637887e493e1c412436": {
     "views": []
    },
    "272ef7b2d9cc49f1b33274e19e7792c4": {
     "views": []
    },
    "27509a63fffc471bbe8383c3021a434e": {
     "views": []
    },
    "2769ceee6d9b44a999c758b23c09dabe": {
     "views": []
    },
    "27a2722b83834aaf94d98f4c03eb7b85": {
     "views": []
    },
    "27dc39c83e21496f80666cd37f24ad25": {
     "views": []
    },
    "28004cf8ce044cadaf9addde59edad2d": {
     "views": []
    },
    "28a942540b034af6bb2665de7d107998": {
     "views": []
    },
    "293d34ba3db44db190486a691e87d03e": {
     "views": []
    },
    "2bd71a565ccd4bcabc665a11874cb6db": {
     "views": []
    },
    "2cd120fd830b40aba74e093a81b7f336": {
     "views": []
    },
    "2d40c7a9caac45e8b38a724043678220": {
     "views": []
    },
    "2f122e29cf864c10b2e803178f0c748a": {
     "views": []
    },
    "302ae63a058a4d2c87efd6a8fd934dd0": {
     "views": []
    },
    "3172f266cbb14803b86ac96a02f74303": {
     "views": []
    },
    "31dce19fe2fc47cb89cb304f870f540d": {
     "views": []
    },
    "3231616761964b7990b9f61976f9c708": {
     "views": []
    },
    "34d1f9e391cc465fb7bb33a00a18f5a5": {
     "views": []
    },
    "3706cb5a551849f69c3e40517e5c77e9": {
     "views": []
    },
    "37297d7267ff4ccbb79c4fee1393e86c": {
     "views": []
    },
    "384dfbb25f0a4b2f8806a569422467d7": {
     "views": []
    },
    "391b3a3abd77486d9f222bef79d4b88e": {
     "views": []
    },
    "3b26eecd7bbc49c495f82bb448c25bb1": {
     "views": []
    },
    "3b6512247f99495b93ded05b106e21ed": {
     "views": []
    },
    "3b924419836044ccae1c547fe8845f5f": {
     "views": []
    },
    "3bd47d9dd6de4422b3294b6d9ee5d011": {
     "views": []
    },
    "3c1e6db19cda4a71ae4a6821216c07ae": {
     "views": []
    },
    "3cf54a24806c436abfefe3c461a0f36b": {
     "views": []
    },
    "3d35d3f8f286441aaeba2c484218ca4e": {
     "views": []
    },
    "3dc8ae86ccd947a39f6ae2e223e51e4c": {
     "views": []
    },
    "3e02a91911854621b1d5aabd38e76293": {
     "views": []
    },
    "40833a470c384b19807a5d3a25d73db8": {
     "views": []
    },
    "42fb83d86a684b8788428bcdd5c86c0f": {
     "views": []
    },
    "437a6f47b2114407998500908d481786": {
     "views": []
    },
    "44cf6fd047194d02b9be4773a1b3c574": {
     "views": []
    },
    "4582b3e65b4140829bc44d75b8e5542d": {
     "views": []
    },
    "4634b78615134b4694bb730470020a8a": {
     "views": []
    },
    "46a8b9bf270f465ba82214c42cd3e4ff": {
     "views": []
    },
    "4720de6adb1b481ca87d737736e7980b": {
     "views": []
    },
    "472e3be84bf94b0eb1d2e22f764e4e73": {
     "views": []
    },
    "477e406aa9cb4a66a1e01ea9a528181a": {
     "views": []
    },
    "47b1fd7a15f34f128f2dff765aa0c068": {
     "views": []
    },
    "480ad5acb28b4c6087fe2ab35fff341c": {
     "views": []
    },
    "480c808501c94070b9200505ce69ce44": {
     "views": []
    },
    "4873babe18154d7b9ec5d6c45a644e49": {
     "views": []
    },
    "48902f943276462d858373992037582d": {
     "views": []
    },
    "4d2789d84dac41a7bae2c28fedaa26c5": {
     "views": []
    },
    "4ecf7d2e508845f78a5e85c88a66c4f1": {
     "views": []
    },
    "4f4bec4ab7d44aab99ae32c3a8a221e0": {
     "views": []
    },
    "4f7b7c3446ca4612a1542499a8a2130f": {
     "views": []
    },
    "4fdf20d6efcf46f795f74621f54663a0": {
     "views": []
    },
    "508772fc566c43f3873c01f935068ad4": {
     "views": []
    },
    "51f6fb21d0074f78aa76baecfd9a6e19": {
     "views": []
    },
    "521366870acc4a7f992d7dde5febd7f7": {
     "views": []
    },
    "5339d9dc92f5424e960b3e777d519325": {
     "views": []
    },
    "550e7891478d470fbeb631f34a81d43d": {
     "views": []
    },
    "56d1ff7713cb4ed1814c938a7e00e981": {
     "views": []
    },
    "582c406e772248419b24e70ca6176586": {
     "views": []
    },
    "596a6e2036b9460284b54f1de662cbf6": {
     "views": []
    },
    "59b0023db00f480384d8de62b429d7a7": {
     "views": []
    },
    "5a10cf3eff47467d8fe26718f540965c": {
     "views": []
    },
    "5c5ef4ff838043b08c8192f2c4aeaa91": {
     "views": []
    },
    "5df6f06c32434381aa475b08f4a97f94": {
     "views": []
    },
    "5e1a4dce10324433804198ab2a36102e": {
     "views": []
    },
    "5e9d19e029be40a48f81dca7a82bebb2": {
     "views": []
    },
    "5fe28bd40a074f90b461756c63a27ce8": {
     "views": []
    },
    "609ad0c68956455aa40877748defa86e": {
     "views": []
    },
    "60a2b257a7f64f6fbc0ef0ceb83788bd": {
     "views": []
    },
    "6149882cb882405a9b9aea4f5b4ced26": {
     "views": []
    },
    "628e65914a714eff8dbad76058ef2094": {
     "views": []
    },
    "62f971d08ced4cfba57c006faa338fcb": {
     "views": []
    },
    "64d33a2cdaf1411d99527783e71d5307": {
     "views": []
    },
    "6540e5da55a14fb59d42e5c551632e35": {
     "views": []
    },
    "65ca7b571e1740e6b3adde13154c406b": {
     "views": []
    },
    "699e21bb3a254412b8e7951a9209a848": {
     "views": []
    },
    "6ccc0223094341a2925efcc7eadbf5fb": {
     "views": []
    },
    "6d01754247784db3b7493b0314c004af": {
     "views": []
    },
    "6d2b2b83ac83422b9ce42874e6fed619": {
     "views": []
    },
    "6dd8cfc0aec54a4185a22db83a9df043": {
     "views": []
    },
    "6fc8c70db48942f2840b8a0c21fd4458": {
     "views": []
    },
    "7090c20a062c4f3ab64519b224057185": {
     "views": []
    },
    "70b8a11d19b54b9899b1dfed9193d363": {
     "views": []
    },
    "72c51e34add442e29b1b9c7c85bb2b5a": {
     "views": []
    },
    "7386b2c6b00b46109ecad47b202926ea": {
     "views": []
    },
    "73ba357d0f34429f8ceb907109935887": {
     "views": []
    },
    "73fc5bd04b074140ab2d4af7c23275d9": {
     "views": []
    },
    "7589dce4b6734ef89d85668a428de5c8": {
     "views": []
    },
    "759996e74d174d2ba3bdece1be80384d": {
     "views": []
    },
    "75b7000d1c484ed09097d666773eb458": {
     "views": []
    },
    "75c4572678cf4bcab39c0ce77be522fa": {
     "views": []
    },
    "7608effe6af8407bb42b903a6c05cc1d": {
     "views": []
    },
    "769bbe1c4a264495acb6758f1f7bb122": {
     "views": []
    },
    "77e3115d41ce4786a76a48adeb4371c5": {
     "views": []
    },
    "788953d825384dd2a7e4c5ccffc02fc6": {
     "views": []
    },
    "788ca972aec64c64b358c63d420f8234": {
     "views": []
    },
    "7c4a64b25b1e48be899624dba9a6a05b": {
     "views": []
    },
    "7c8c97057a784626b27011031787f222": {
     "views": []
    },
    "7de5e99a64ea498c8cc94985620bfc27": {
     "views": []
    },
    "7e522c6ccd904cf08d0b04a5715e9ade": {
     "views": []
    },
    "83b957dffb4d4c64a75efb0b49db252c": {
     "views": []
    },
    "8472e436553548f7ae5fdc1abf5255fd": {
     "views": []
    },
    "84bc7471c0014091841beebea3d7e453": {
     "views": []
    },
    "8585a43817424c7984b6eb6251481ac6": {
     "views": []
    },
    "8620271394bd44bba21fb303f9230e88": {
     "views": []
    },
    "8626931a5e8a41bfb5b9d954685ac3ac": {
     "views": []
    },
    "86dbc9f0a9cf4b2080699ebbb58dd8b6": {
     "views": []
    },
    "8783c9cdd95a4ddf9d1666011a6e1e1e": {
     "views": []
    },
    "891609ba08134466b5df11126c10f3c6": {
     "views": []
    },
    "896c74ddd0bb42c8b3554517328a5d44": {
     "views": []
    },
    "8a819285d9784e0990cfd47e413344e8": {
     "views": []
    },
    "8ad2bdcd46534fe882c48e7a46baa574": {
     "views": []
    },
    "8b63b2443c7447da8a91017819417cc8": {
     "views": []
    },
    "8baa4b437c75400bb0a164de171253ce": {
     "views": []
    },
    "8ca8cf22d446424382a4ff613b2f0f83": {
     "views": []
    },
    "8cc93bbfef0b41cb9e836426655276a1": {
     "views": []
    },
    "8d043151e4fb44e0a543dfaf145b3c51": {
     "views": []
    },
    "8db75dfe91954d948eee6f6c07c763a7": {
     "views": []
    },
    "8e2a17e51d064dc89f5b2e0cdbcb9919": {
     "views": []
    },
    "8e2d46b1076d46c7b99956bf99690887": {
     "views": []
    },
    "8e412dccce3b41a28c64a875fca94d20": {
     "views": []
    },
    "8fe6dd68fe3e4c7e8a508792e87a08d1": {
     "views": []
    },
    "9114309671bd444fab969342f158a056": {
     "views": []
    },
    "9151cd8e2eca4b0db63dce162a5a086e": {
     "views": []
    },
    "92f76fa5d0e5452c93cd0c0cbd532ae0": {
     "views": []
    },
    "9555a24f8b314a6baae4f59feb1cbaca": {
     "views": []
    },
    "95abdeafe7864d438883b9a8cd9ff198": {
     "views": []
    },
    "9696e98245eb41558b9b5d4567c818f7": {
     "views": []
    },
    "98a7953f241c4161af890a52c0018ead": {
     "views": []
    },
    "98e1ad911b6c4eb1a39ffce6909007c7": {
     "views": []
    },
    "98e9ebc249b44e408044ef1683142312": {
     "views": []
    },
    "9951e509bef04ed880b6386a9ded86b9": {
     "views": []
    },
    "9a36e22ca897488593fd4992a86be1c2": {
     "views": []
    },
    "9a771fc992e6487ea0a0edc3588f5ae3": {
     "views": []
    },
    "9ae3ec3978314479aad0b4890a220f42": {
     "views": []
    },
    "9af80e5d38e445d59707d76d80ef888b": {
     "views": []
    },
    "9c25cb96830247eaacdb54f09806cf87": {
     "views": []
    },
    "9c7ff66d281747cfb3d0591cdf9e504d": {
     "views": []
    },
    "9cd2caf132fc49bc8c63a30f085b0200": {
     "views": []
    },
    "9cdae93c11884bfe8bf6330dcd00852c": {
     "views": []
    },
    "9cf8159ee01b4feb95cabfed367542db": {
     "views": []
    },
    "9d631e303d174bdbb58153580d91223e": {
     "views": []
    },
    "9dd3c97244d14a75acc755c8708ae4e5": {
     "views": []
    },
    "9e7e9ad5031342c99186f5c18a7b12ad": {
     "views": []
    },
    "9ff831750f6945c690b34b67007fddb0": {
     "views": []
    },
    "a003760757d141afa69622e9d48682c4": {
     "views": []
    },
    "a00ab54264f0441db2a3f844b7d0d6f2": {
     "views": []
    },
    "a05ddc3e2c204fb18539b26fd473aaf9": {
     "views": []
    },
    "a12760c669084c8f961ea4bb52dda250": {
     "views": []
    },
    "a3924872425f4513a550565c472bc64a": {
     "views": []
    },
    "a3d81c969f9f494a992f0121884db860": {
     "views": []
    },
    "a3f7edb2c68a4388bcf4157714646b2a": {
     "views": []
    },
    "a47801b941914e01bb5d94d01ef63234": {
     "views": []
    },
    "a4a897262c6c41d5aab9921be9df4b17": {
     "views": []
    },
    "a5b0c496f18e4fa7aace176d9e92a59a": {
     "views": []
    },
    "a63c8b4ef25e48bf90879314e4021d1b": {
     "views": []
    },
    "a793b90dbb3443eda5af47df06de53ad": {
     "views": []
    },
    "a86aa173698a48019d765061b01e87a0": {
     "views": []
    },
    "a967a490fd4145a6a76ddc8cdca67731": {
     "views": []
    },
    "a9d0a567fde8407690969d1969323362": {
     "views": []
    },
    "aad870c74f6b4951bcafd7824b59793d": {
     "views": []
    },
    "aae3fca087c347b2bd01777d9e79e45a": {
     "views": []
    },
    "ab072aa3063d443f8fd43d7610bf3898": {
     "views": []
    },
    "acae9361dde3495787ce1974825fcf2c": {
     "views": []
    },
    "ae0f8c99455b43069a7536daa119b174": {
     "views": []
    },
    "ae758d1939174823ae193c44c6e60001": {
     "views": []
    },
    "af04819e9b7a498da40d3af718187a49": {
     "views": []
    },
    "afb45da4495742c08a2886e3153f4f90": {
     "views": []
    },
    "b0b833418cf54dfda82219e129333b52": {
     "views": []
    },
    "b2f26300f43e430a920c7664f15c4c41": {
     "views": []
    },
    "b391d0795998483b8a0351181fd1444a": {
     "views": []
    },
    "b4147c420fbd466489854d4ef9f69ec9": {
     "views": []
    },
    "b4974542378d4ef587560c0118cfc4cd": {
     "views": []
    },
    "b6d86d7a29cd4506aeacce7ce233b44c": {
     "views": []
    },
    "b7d6a5ff88e14598b7ccded3b96306ab": {
     "views": []
    },
    "b86ddee9a2a744908acd0eaf9c234ff1": {
     "views": []
    },
    "ba25cf0ee2764c3286d9b04a4b119096": {
     "views": []
    },
    "ba721260e8e24003a3c34e7b858d92ce": {
     "views": []
    },
    "bbbcba96357247958613a823e56e6823": {
     "views": []
    },
    "bbf3a01fa3294e2f8bb51876ad9f2437": {
     "views": []
    },
    "bce987f204e2431fb89d0afcabb64c42": {
     "views": []
    },
    "be4f60f5a7f64aa8b0f4264ceba28c83": {
     "views": []
    },
    "bf3b0b9c2a3d4d39b1c1b118b2719f13": {
     "views": []
    },
    "bf873d2648bd45c8bf20203c1560feef": {
     "views": []
    },
    "bfcde714b0c64014aa9b5383c089fcee": {
     "views": []
    },
    "bfed811466c546bca868ee04bd1e69b0": {
     "views": []
    },
    "bff126ec429347dc802f7fc7d3e98388": {
     "views": []
    },
    "c011631069524d5a873132eef20b3a65": {
     "views": []
    },
    "c01f0810b7624dcaa8b24b6ee0bb114a": {
     "views": []
    },
    "c3a813303c2549de97c30ba2582985b8": {
     "views": []
    },
    "c4758e6369d249e2882023bf2a9b9196": {
     "views": []
    },
    "c50a00ca2d7744ebb9c0d2622d7de389": {
     "views": []
    },
    "c524df455a794567af3364306e8a8eaf": {
     "views": []
    },
    "c580cdead2ec4945812c55800e459fb8": {
     "views": []
    },
    "c71425df00a043dcbd7b353e39108b68": {
     "views": []
    },
    "c8e36c81b78244c3adf1162a82d8e203": {
     "views": []
    },
    "c900bf87d3a24743b75d6b9bcb28f6b2": {
     "views": []
    },
    "c9fce46c8da046aab6bbd4b61cb7970b": {
     "views": []
    },
    "ca27be8bcfa44d76a4dca35259faf314": {
     "views": []
    },
    "cc2cedcaf57b43ebab90e21b892eb2e1": {
     "views": []
    },
    "cc2d4a51d84a4b48871d5dfdf082f19a": {
     "views": []
    },
    "cc349abe3f22419395888e419ac95845": {
     "views": []
    },
    "ce0a752048234d1fb446f7230491100f": {
     "views": []
    },
    "ce68df8ae33145a6b05a7d7534960a25": {
     "views": []
    },
    "cf1f224facf74ff9b9747146d3e0c294": {
     "views": []
    },
    "cf2805db58724bdda5fdcb703da170e7": {
     "views": []
    },
    "cf6bb8c08adc407f9dc1e1eae6d6b59e": {
     "views": []
    },
    "cfb753ff8ff949e19d3894ecfa2db110": {
     "views": []
    },
    "d18d99546ed540c2b4ba40f7a41b0ea9": {
     "views": []
    },
    "d257a25c0da3434a81ea3c69b2b6f758": {
     "views": []
    },
    "d2d5aa2f285f4db9b0b5a94567793025": {
     "views": []
    },
    "d34c8942b8b142f7a250123e70b4deff": {
     "views": []
    },
    "d392d4e1e68a4d6d972a62e8abafc675": {
     "views": []
    },
    "d3a8162319c742a7a39c17d95c5bef5b": {
     "views": []
    },
    "d40fcf4c0bec4209b249c2e2db489e94": {
     "views": []
    },
    "d5b90c2f2fa0431f9df110648b8b7587": {
     "views": []
    },
    "d6b568d868164628a110f15977104653": {
     "views": []
    },
    "d83127e421484d8c816bd1c76578b1da": {
     "views": []
    },
    "d8a5231a2cfc4ddea5a9526d59fb7c2a": {
     "views": []
    },
    "d958ad0d8b8f4cabb39f8b7966d839e1": {
     "views": []
    },
    "d98bb1367b8346d3b0b90d510f122077": {
     "views": []
    },
    "da187397d6f948379ef1ba275e081242": {
     "views": []
    },
    "daa356a61f2542c886d6a2b7f2e645bf": {
     "views": []
    },
    "dba52f8824c84800bc7b75ffff1017d6": {
     "views": []
    },
    "dc30c2f39327427e869cb926b453aa82": {
     "views": []
    },
    "dc3cdef64e094814a9e6caee8722cf60": {
     "views": []
    },
    "dc3edb0bb89549f59ecf11b41379cb28": {
     "views": []
    },
    "dc86915318c243f68e061ee2d5347546": {
     "views": []
    },
    "dd057287d2694c6cbb195dbeab77839a": {
     "views": []
    },
    "de5eae01fcdb499abff4ab4196bc610e": {
     "views": []
    },
    "de7fd99cf29940a5b33beaf7df85e3bc": {
     "views": []
    },
    "def4d642e5634746aabde6d684e4f163": {
     "views": []
    },
    "dfc77268837440f8944dc57230fe0239": {
     "views": []
    },
    "e0e47b671bfb49cc85b1cf7fe526bc73": {
     "views": []
    },
    "e112d9366a6c40e784cd5ecdacc1c43c": {
     "views": []
    },
    "e153ede177b3488b9d0752dbc447cff9": {
     "views": []
    },
    "e1f012cdd5804316862c635489425138": {
     "views": []
    },
    "e4866221ed864338bf171272ab177420": {
     "views": []
    },
    "e572fbf1cda448a5be1bbecff9f5b2ca": {
     "views": []
    },
    "e582b049934e4450ac09352cdbf0d5bd": {
     "views": []
    },
    "e5f0b39182994554a75cdc0fb7e0230b": {
     "views": []
    },
    "e5f0d890340c4f09ad0c758d17bfb91b": {
     "views": []
    },
    "e6cf1db606c24ee0854f1bb7014e413e": {
     "views": []
    },
    "e79c7b6154434290bef2fe946d440ef9": {
     "views": []
    },
    "e9634c9606dc43c3843733b1dccf191f": {
     "views": []
    },
    "e965cfd7bb134991aad999ed2ea82c1a": {
     "views": []
    },
    "ea224249e04e414c98f531e081008876": {
     "views": []
    },
    "ebae18ada05f46e0aff69b22b416eaf3": {
     "views": []
    },
    "edd6a6e8d6f04adbbf3359d188fc1cf8": {
     "views": []
    },
    "eecf4d5ade804daab99400d528c1a779": {
     "views": []
    },
    "eed49aa09cd14d149e2b95f6c8b0bf84": {
     "views": []
    },
    "f2bfc457f75f4a5b992330874e53a64d": {
     "views": []
    },
    "f327ea396b7944f3b9533f101640fb3a": {
     "views": []
    },
    "f3318a8c598147e99f95f20392ea1c44": {
     "views": []
    },
    "f3da0d5e1c904a5e875cd6209bb257e2": {
     "views": []
    },
    "f5ca6a5d51d34a38a953263abb841fd3": {
     "views": []
    },
    "f8100ad5106d495d93c8b1b6a68fdf19": {
     "views": []
    },
    "f86f0c5d966b42a6aed3a15911679402": {
     "views": []
    },
    "fb91718c871c4b889b154c84807bf658": {
     "views": []
    },
    "fbaa38f6e67c425bb988ead7e78845cf": {
     "views": []
    },
    "fbc802ca142c48988fecf6c9f49e572e": {
     "views": []
    },
    "fbf9e75736e542d08a90ecb2f90230df": {
     "views": []
    },
    "fc4bf2b9c967436eac4f600d3ca24c1a": {
     "views": []
    },
    "fcb53ed0d12341acaf2c8dcee94056e5": {
     "views": []
    },
    "fe637f3bf821467da68415ac4fcc2158": {
     "views": []
    }
   },
   "version": "1.1.2"
  }
 },
 "nbformat": 4,
 "nbformat_minor": 0
}
