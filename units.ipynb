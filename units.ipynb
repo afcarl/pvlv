{
 "cells": [
  {
   "cell_type": "markdown",
   "metadata": {},
   "source": [
    "# Leabra Units "
   ]
  },
  {
   "cell_type": "markdown",
   "metadata": {},
   "source": [
    "This notebook recreates the [\"Units\" tutorial of Chapter 2 of the CECN1 textbook](https://grey.colorado.edu/CompCogNeuro/index.php/CECN1_Units). It uses the Leabra framework corresponding to [emergent](https://grey.colorado.edu/emergent) 5.0. "
   ]
  },
  {
   "cell_type": "code",
   "execution_count": null,
   "metadata": {
    "collapsed": false
   },
   "outputs": [],
   "source": [
    "import leabra\n",
    "import graphs"
   ]
  },
  {
   "cell_type": "code",
   "execution_count": null,
   "metadata": {
    "collapsed": true
   },
   "outputs": [],
   "source": [
    "receiver = leabra.Unit()"
   ]
  },
  {
   "cell_type": "code",
   "execution_count": null,
   "metadata": {
    "collapsed": false
   },
   "outputs": [],
   "source": [
    "receiver.show_config()"
   ]
  },
  {
   "cell_type": "markdown",
   "metadata": {},
   "source": [
    "To make things as simple as possible, we do not use a sender unit or a network instance. Instead, we manually provide inputs to the receiver unit. The simulation last 200ms. All inputs are 0.0, exepts every input between 10ms and 160ms, which are 1.0."
   ]
  },
  {
   "cell_type": "code",
   "execution_count": null,
   "metadata": {
    "collapsed": false
   },
   "outputs": [],
   "source": [
    "inputs = 10*[0.0] + 150*[1.0] + 40*[0.0]\n",
    "\n",
    "for g_e in inputs:\n",
    "    receiver.cycle(g_e)"
   ]
  },
  {
   "cell_type": "markdown",
   "metadata": {},
   "source": [
    "We can monitor the excitatory input the unit receives (`net`), its membrane potential (`v_m`), its total conductance (`I_net`) and its ouput activity (`act`). "
   ]
  },
  {
   "cell_type": "code",
   "execution_count": null,
   "metadata": {
    "collapsed": false
   },
   "outputs": [],
   "source": [
    "graphs.unit_activity(receiver.logs)"
   ]
  },
  {
   "cell_type": "markdown",
   "metadata": {},
   "source": [
    "## Manipulating Parameters"
   ]
  },
  {
   "cell_type": "markdown",
   "metadata": {},
   "source": [
    "You can use sliders to easily modify the `g_e_bar`, `g_l_bar`, `e_rev_e` and `e_rev_l`as in the [CECN1 tutorial](https://grey.colorado.edu/CompCogNeuro/index.php/CECN1_Units#Manipulating_Parameters). Do refer to the tutorial for a discussion about interesting this to try with those parameters."
   ]
  },
  {
   "cell_type": "code",
   "execution_count": null,
   "metadata": {
    "collapsed": false
   },
   "outputs": [],
   "source": [
    "figdata = graphs.unit_activity_interactive(receiver.logs)\n",
    "\n",
    "# sliders\n",
    "g_bar_e_slider = graphs.floatslider(min=0.0, max=1.0, step=0.01, value=0.40)\n",
    "g_bar_l_slider = graphs.floatslider(min=0.0, max=4.0, step=0.01, value=2.80)\n",
    "e_rev_e_slider = graphs.floatslider(min=0.0, max=1.0, step=0.01, value=1.00)\n",
    "e_rev_l_slider = graphs.floatslider(min=0.1, max=0.3, step=0.001, value=0.15)\n",
    "\n",
    "def regenerate_activity(g_bar_e, g_bar_l, e_rev_e, e_rev_l):\n",
    "    \"\"\"Recompute the graph with given paremeters values\"\"\"\n",
    "    receiver = leabra.Unit()\n",
    "    receiver.cst.g_bar_e = g_bar_e\n",
    "    receiver.cst.g_bar_l = g_bar_l\n",
    "    receiver.cst.e_rev_e = e_rev_e\n",
    "    receiver.cst.e_rev_l = e_rev_l\n",
    "    \n",
    "    for g_e in inputs:\n",
    "        receiver.cycle(g_e)\n",
    "        \n",
    "    graphs.unit_activity_interactive(receiver.logs, figdata=figdata)"
   ]
  },
  {
   "cell_type": "code",
   "execution_count": null,
   "metadata": {
    "collapsed": false
   },
   "outputs": [],
   "source": [
    "graphs.interact(regenerate_activity, g_bar_e=g_bar_e_slider, g_bar_l=g_bar_l_slider, \n",
    "                                     e_rev_e=e_rev_e_slider, e_rev_l=e_rev_l_slider)"
   ]
  },
  {
   "cell_type": "markdown",
   "metadata": {},
   "source": [
    " "
   ]
  },
  {
   "cell_type": "code",
   "execution_count": null,
   "metadata": {
    "collapsed": true
   },
   "outputs": [],
   "source": []
  }
 ],
 "metadata": {
  "kernelspec": {
   "display_name": "Python 3",
   "language": "python",
   "name": "python3"
  },
  "language_info": {
   "codemirror_mode": {
    "name": "ipython",
    "version": 3
   },
   "file_extension": ".py",
   "mimetype": "text/x-python",
   "name": "python",
   "nbconvert_exporter": "python",
   "pygments_lexer": "ipython3",
   "version": "3.5.2"
  },
  "widgets": {
   "state": {
    "0710042e41a64dbf9c3a03cc403c86d1": {
     "views": []
    },
    "083fefc57ba148c9979cd8f4aa09ac1c": {
     "views": []
    },
    "0b1f91963b174aabbaf69f98b387c8a4": {
     "views": []
    },
    "19b93fade9b3452287c7ff0a2058847e": {
     "views": []
    },
    "3939f79f23674139ae6d484602b1aff3": {
     "views": []
    },
    "3ff757ac738741b7aa785bfc52bc0c9a": {
     "views": []
    },
    "5a6790c36d0640fb9ca182457f86dea8": {
     "views": []
    },
    "6a767d785043472b84f2a13eb360bbdd": {
     "views": [
      {
       "cell_index": 12
      }
     ]
    },
    "722cbb3dee814468abbfe2592e507d95": {
     "views": []
    },
    "7247ad8240404ec5a8de73c1be2c8e46": {
     "views": []
    },
    "7eb49af5cd174814b9b3aba4aec0ad1b": {
     "views": []
    },
    "9fc13d2060924ce9aa3aed21b69db077": {
     "views": []
    },
    "aa5cf47fdc064f6da7ceab64e5570162": {
     "views": []
    },
    "c080b7cb07794c5cbebc65d60f757856": {
     "views": []
    },
    "c0c70f71948248998940f4eee51c6a1a": {
     "views": []
    },
    "c178dfbcbb1d41ccb810583f47785fad": {
     "views": []
    },
    "c4c0b33be2554837835642d8398bbca9": {
     "views": []
    },
    "d454e1c761bb437783f40c53a4fa58ef": {
     "views": []
    },
    "d48c9145672045fc97fc90554b9ac694": {
     "views": []
    },
    "ef6e52f9368d4f5f9268afdde6fa0264": {
     "views": []
    }
   },
   "version": "1.1.2"
  }
 },
 "nbformat": 4,
 "nbformat_minor": 0
}
