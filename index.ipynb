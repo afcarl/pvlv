{
 "cells": [
  {
   "cell_type": "markdown",
   "metadata": {},
   "source": [
    "# Notebooks\n",
    "\n",
    "The following Jupyter notebooks are meant to explain how the model behaves, and how one can use the code.\n",
    "\n",
    "* [Units](units.ipynb): Allows to follow most of the \"Units\" tutorial of [\"Units\" tutorial of Chapter 2 of the CECN1 textbook](https://grey.colorado.edu/CompCogNeuro/index.php/CECN1_Units).\n",
    "* [Noisy XX1](noisy_xx1.ipynb): Shows and explain the difference between the *XX1* function and the *Noisy XX1* function that is actually used in the model.\n",
    "* [Inhibition](inhibition.ipynb): A simple example of layer inhibition."
   ]
  },
  {
   "cell_type": "markdown",
   "metadata": {},
   "source": [
    " "
   ]
  }
 ],
 "metadata": {
  "kernelspec": {
   "display_name": "Python 3",
   "language": "python",
   "name": "python3"
  },
  "language_info": {
   "codemirror_mode": {
    "name": "ipython",
    "version": 3
   },
   "file_extension": ".py",
   "mimetype": "text/x-python",
   "name": "python",
   "nbconvert_exporter": "python",
   "pygments_lexer": "ipython3",
   "version": "3.5.2"
  }
 },
 "nbformat": 4,
 "nbformat_minor": 0
}
