{
 "cells": [
  {
   "cell_type": "markdown",
   "metadata": {},
   "source": [
    "# Primary Value and Learned Value Learning Algorithm"
   ]
  },
  {
   "cell_type": "code",
   "execution_count": null,
   "metadata": {
    "collapsed": false
   },
   "outputs": [],
   "source": [
    "import dotdot\n",
    "import leabra\n",
    "import graphs"
   ]
  },
  {
   "cell_type": "code",
   "execution_count": null,
   "metadata": {
    "collapsed": true
   },
   "outputs": [],
   "source": [
    "theta_min, theta_max = 0.20, 0.80"
   ]
  },
  {
   "cell_type": "markdown",
   "metadata": {},
   "source": [
    "### Layers"
   ]
  },
  {
   "cell_type": "code",
   "execution_count": null,
   "metadata": {
    "collapsed": false
   },
   "outputs": [],
   "source": [
    "# layer whose activity is set directly\n",
    "timing   = leabra.Layer(5)\n",
    "stimulus = leabra.Layer(1)\n",
    "PVe      = leabra.Layer(1)\n",
    "\n",
    "# layer who compute their own activities\n",
    "lspec = leabra.LayerSpec(k=1)\n",
    "PVi = leabra.Layer(1, spec=lspec)\n",
    "LVe = leabra.Layer(1, spec=lspec)\n",
    "LVi = leabra.Layer(1, spec=lspec)\n",
    "DA  = leabra.Layer(1, spec=lspec)"
   ]
  },
  {
   "cell_type": "markdown",
   "metadata": {},
   "source": [
    "### Connections"
   ]
  },
  {
   "cell_type": "code",
   "execution_count": null,
   "metadata": {
    "collapsed": true
   },
   "outputs": [],
   "source": [
    "PVi_spec = leabra.ConnectionSpec(proj='full', lrule='delta') # FIXME: find lrate\n",
    "LVe_spec = leabra.ConnectionSpec(proj='full', lrule='delta', lrate=0.05)\n",
    "LVi_spec = leabra.ConnectionSpec(proj='full', lrule='delta', lrate=0.001)\n",
    "\n",
    "# stimulus -> PVi, LVe, LVi\n",
    "conn_stim_PVi = leabra.Connection(stimulus, PVi, spec=PVi_spec)\n",
    "conn_stim_LVe = leabra.Connection(stimulus, LVe, spec=LVe_spec)\n",
    "conn_stim_LVi = leabra.Connection(stimulus, LVi, spec=LVi_spec)\n",
    "\n",
    "# timing -> PVi, LVe, LVi\n",
    "conn_time_PVi = leabra.Connection(timing,   PVi, spec=PVi_spec)\n",
    "conn_time_LVe = leabra.Connection(timing,   LVe, spec=LVe_spec)\n",
    "conn_time_LVi = leabra.Connection(timing,   LVi, spec=LVi_spec)\n",
    "\n",
    "# magic connections:\n",
    "# * PVe -> PVi\n",
    "# * PVi -> LVe\n",
    "# * PVi -> LVi\n",
    "# * PVi, LVe, LVi -> DA\n"
   ]
  },
  {
   "cell_type": "markdown",
   "metadata": {},
   "source": [
    "### Network"
   ]
  },
  {
   "cell_type": "code",
   "execution_count": null,
   "metadata": {
    "collapsed": true
   },
   "outputs": [],
   "source": [
    "network = leabra.Network(layers=[PVi, LVe, LVi], \n",
    "                         connections=[conn_stim_PVi, conn_stim_LVe, conn_stim_LVi,\n",
    "                                      conn_time_PVi, conn_time_LVe, conn_time_LVi])"
   ]
  },
  {
   "cell_type": "markdown",
   "metadata": {},
   "source": [
    "### Inputs"
   ]
  },
  {
   "cell_type": "code",
   "execution_count": null,
   "metadata": {
    "collapsed": false
   },
   "outputs": [],
   "source": [
    "def trial():\n",
    "    \"\"\"Run a trial\"\"\"\n",
    "    logs = {'PVe': [], 'PVi': [], 'LVe': [], 'LVi': [], 'DA': []}\n",
    "    \n",
    "    # inputs for 5 settling periods (15 cycles each)\n",
    "    stim_in = [[0.5], [1.0], [1.0], [1.0], [0.5]]  # stimulus inputs\n",
    "    rewd_in = [[0.5], [0.5], [0.5], [1.0], [0.5]]  # reward inputs\n",
    "    for t in range(5):\n",
    "        # setting inputs, reward\n",
    "        timing.set_activities([0.0 for i in range(5)])\n",
    "        timing.units[t].act = 1.0  # timing inputs\n",
    "        stimulus.set_activities(stim_in[t])\n",
    "        PVe.set_activities(rewd_in[t])\n",
    "        \n",
    "        # minus phase\n",
    "        network.settle()\n",
    "        network.end_minus_phase()\n",
    "        PVe.units[0].act_m = rewd_in[t][0]\n",
    "        \n",
    "        # plus phase\n",
    "        PVe.set_activities(rewd_in[t])\n",
    "        PVi.set_activities(rewd_in[t])\n",
    "        LVe.set_activities(rewd_in[t])\n",
    "        LVi.set_activities(rewd_in[t])\n",
    "        network.end_plus_phase()\n",
    "        \n",
    "        # PV_filter\n",
    "        PV_filter = (PVi.activities[0] < theta_min or PVe.activities[0] < theta_min or\n",
    "                     PVi.activities[0] > theta_max or PVe.activities[0] > theta_max)  # eq. A9\n",
    "        \n",
    "        # learning\n",
    "        conn_stim_PVi.learn()\n",
    "        conn_time_PVi.learn()\n",
    "        if PV_filter:\n",
    "            conn_stim_LVe.learn()\n",
    "            conn_time_LVe.learn()\n",
    "            conn_stim_LVi.learn()\n",
    "            conn_time_LVi.learn()\n",
    "            \n",
    "        # computing dopamine\n",
    "        delta_lv = LVe.units[0].act_m - LVi.units[0].act_m\n",
    "        delta_pv = PVe.units[0].act_m - PVi.units[0].act_m\n",
    "        DA.set_activities([delta_lv + (delta_pv if PV_filter else 0.0)])  # eq. A14\n",
    "\n",
    "        logs['PVe'].append(PVe.units[0].act_m)\n",
    "        logs['PVi'].append(PVi.units[0].act_m)\n",
    "        logs['LVe'].append(LVe.units[0].act_m)\n",
    "        logs['LVi'].append(LVi.units[0].act_m)\n",
    "        logs['DA'].append(DA.units[0].act)\n",
    "\n",
    "    return logs"
   ]
  },
  {
   "cell_type": "code",
   "execution_count": null,
   "metadata": {
    "collapsed": false
   },
   "outputs": [],
   "source": [
    "for i in range(50):\n",
    "    logs = trial()"
   ]
  },
  {
   "cell_type": "code",
   "execution_count": null,
   "metadata": {
    "collapsed": false
   },
   "outputs": [],
   "source": [
    "graphs.dopamine(logs)"
   ]
  },
  {
   "cell_type": "markdown",
   "metadata": {},
   "source": [
    " "
   ]
  }
 ],
 "metadata": {
  "kernelspec": {
   "display_name": "Python 3",
   "language": "python",
   "name": "python3"
  },
  "language_info": {
   "codemirror_mode": {
    "name": "ipython",
    "version": 3
   },
   "file_extension": ".py",
   "mimetype": "text/x-python",
   "name": "python",
   "nbconvert_exporter": "python",
   "pygments_lexer": "ipython3",
   "version": "3.5.2"
  }
 },
 "nbformat": 4,
 "nbformat_minor": 1
}
