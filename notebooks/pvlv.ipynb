{
 "cells": [
  {
   "cell_type": "markdown",
   "metadata": {},
   "source": [
    "# Primary Value and Learned Value Learning Algorithm"
   ]
  },
  {
   "cell_type": "code",
   "execution_count": null,
   "metadata": {
    "collapsed": true
   },
   "outputs": [],
   "source": [
    "import dotdot\n",
    "import leabra"
   ]
  },
  {
   "cell_type": "markdown",
   "metadata": {},
   "source": [
    "### Layers"
   ]
  },
  {
   "cell_type": "code",
   "execution_count": null,
   "metadata": {
    "collapsed": true
   },
   "outputs": [],
   "source": [
    "# layer whose activity is set directly\n",
    "timing   = leabra.Layer(6)\n",
    "stimulus = leabra.Layer(1)\n",
    "PVe      = leabra.Layer(1)\n",
    "\n",
    "# layer who compute their own activities\n",
    "lspec = leabra.LayerSpec(k=1)\n",
    "PVi = leabra.layer(1, spec=lspec)\n",
    "LVe = leabra.Layer(1, spec=lspec)\n",
    "LVi = leabra.Layer(1, spec=lspec)\n",
    "DA  = leabra.Layer(1, spec=lspec)"
   ]
  },
  {
   "cell_type": "markdown",
   "metadata": {},
   "source": [
    "### Connections"
   ]
  },
  {
   "cell_type": "code",
   "execution_count": null,
   "metadata": {
    "collapsed": true
   },
   "outputs": [],
   "source": [
    "# stimulus -> PVi, LVe, LVi\n",
    "delta_spec = leabra.ConnectionSpec(lrule='delta', proj='full')\n",
    "conn_stim_PVi = leabra.Connection(stimulus, PVi, spec=delta_spec)\n",
    "conn_stim_LVe = leabra.Connection(stimulus, LVe, spec=delta_spec)\n",
    "conn_stim_LVi = leabra.Connection(stimulus, LVi, spec=delta_spec)\n",
    "\n",
    "# timing -> PVi, LVe, LVi\n",
    "conn_time_PVi = leabra.Connection(timing,   PVi, spec=delta_spec)\n",
    "conn_time_LVe = leabra.Connection(timing,   LVe, spec=delta_spec)\n",
    "conn_time_LVi = leabra.Connection(timing,   LVi, spec=delta_spec)\n",
    "\n",
    "# magic connections:\n",
    "# * PVe -> PVi\n",
    "# * PVi -> LVe\n",
    "# * PVi -> LVi\n",
    "# * PVi, LVe, LVi -> DA\n"
   ]
  },
  {
   "cell_type": "markdown",
   "metadata": {},
   "source": [
    "### Network"
   ]
  },
  {
   "cell_type": "code",
   "execution_count": null,
   "metadata": {
    "collapsed": true
   },
   "outputs": [],
   "source": [
    "network = leabra.Network(layers=[PVi, LVe, LVi], \n",
    "                         connections=[conn_stim_PVi, conn_stim_LVe, conn_stim_LVi,\n",
    "                                      conn_time_PVi, conn_time_LVe, conn_time_LVi])"
   ]
  },
  {
   "cell_type": "markdown",
   "metadata": {},
   "source": [
    "### Inputs"
   ]
  },
  {
   "cell_type": "code",
   "execution_count": null,
   "metadata": {
    "collapsed": true
   },
   "outputs": [],
   "source": [
    "def trial():\n",
    "    # inputs for 5 settling periods (15 cycles each)\n",
    "    stim_in = [[0.0], [1.0], [1.0], [1.0], [0.0]]  # stimulus inputs\n",
    "    rewd_in = [[0.0], [0.0], [0.0], [1.0], [0.0]]  # reward inputs\n",
    "    for t in range(5):\n",
    "        timing.set_activities([0.0 for i in range(5)])\n",
    "        timing.units[t].act = 1.0  # timing inputs\n",
    "        stimulus.set_activities(stim_in[t])\n",
    "        PVe.set_activities(rewd_in[t])"
   ]
  }
 ],
 "metadata": {
  "kernelspec": {
   "display_name": "Python 3",
   "language": "python",
   "name": "python4"
  },
  "language_info": {
   "codemirror_mode": {
    "name": "ipython",
    "version": 3
   },
   "file_extension": ".py",
   "mimetype": "text/x-python",
   "name": "python",
   "nbconvert_exporter": "python",
   "pygments_lexer": "ipython3",
   "version": "3.5.1"
  }
 },
 "nbformat": 4,
 "nbformat_minor": 1
}
