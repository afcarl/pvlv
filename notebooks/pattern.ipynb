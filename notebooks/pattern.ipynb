{
 "cells": [
  {
   "cell_type": "markdown",
   "metadata": {},
   "source": [
    "# Pattern Associator"
   ]
  },
  {
   "cell_type": "markdown",
   "metadata": {},
   "source": [
    "We recreate the network of the [Pattern Associator tutorial from the CECN1 notebook](https://grey.colorado.edu/CompCogNeuro/index.php/CECN1_Pattern_Associator) exploring how the delta rule works and behave. "
   ]
  },
  {
   "cell_type": "code",
   "execution_count": null,
   "metadata": {
    "collapsed": false
   },
   "outputs": [],
   "source": [
    "import numpy as np\n",
    "import dotdot\n",
    "import leabra\n",
    "import graphs"
   ]
  },
  {
   "cell_type": "code",
   "execution_count": null,
   "metadata": {
    "collapsed": false
   },
   "outputs": [],
   "source": [
    "input_layer  = leabra.Layer(4)\n",
    "output_spec  = leabra.LayerSpec(kwta_pct=1.0) # no inhibition\n",
    "output_layer = leabra.Layer(2, spec=output_spec)"
   ]
  },
  {
   "cell_type": "code",
   "execution_count": null,
   "metadata": {
    "collapsed": true
   },
   "outputs": [],
   "source": [
    "conspec = leabra.ConnectionSpec(proj=\"Full\", lrule='delta')\n",
    "conn    = leabra.Connection(input_layer, output_layer, spec=conspec)"
   ]
  },
  {
   "cell_type": "code",
   "execution_count": null,
   "metadata": {
    "collapsed": false
   },
   "outputs": [],
   "source": [
    "network = leabra.Network(layers=[output_layer], connections=[conn])"
   ]
  },
  {
   "cell_type": "code",
   "execution_count": null,
   "metadata": {
    "collapsed": true
   },
   "outputs": [],
   "source": [
    "def event(k, network):\n",
    "    \"\"\"Run a minus phase and a plus phase for a given input/output pair\"\"\"\n",
    "    inputs  = [0.0, 0.0, 0.0, 0.0]\n",
    "    outputs = [0.0, 0.0]\n",
    "    inputs[k] = 1.0\n",
    "    outputs[int(k/2)] = 1.0  # desired output\n",
    "    \n",
    "    # minus phase\n",
    "    input_layer.set_activities(inputs)\n",
    "    network.settle()\n",
    "    network.end_minus_phase()\n",
    "    error = sum((np.array(output_layer.activities) - outputs)**2) \n",
    "\n",
    "    # plus phase: the output is set directly\n",
    "    for t in range(network.spec.settle):\n",
    "        output_layer.set_activities(outputs)\n",
    "        network.cycle()\n",
    "    output_layer.set_activities(outputs)\n",
    "    network.end_plus_phase()\n",
    "    \n",
    "    return error"
   ]
  },
  {
   "cell_type": "code",
   "execution_count": null,
   "metadata": {
    "collapsed": false
   },
   "outputs": [],
   "source": [
    "conn.weights"
   ]
  },
  {
   "cell_type": "code",
   "execution_count": null,
   "metadata": {
    "collapsed": false
   },
   "outputs": [],
   "source": [
    "def trial():\n",
    "    sse = 0.0\n",
    "    sse += event(0, network)\n",
    "    sse += event(1, network)\n",
    "    sse += event(2, network)\n",
    "    sse += event(3, network)\n",
    "    return sse / 4"
   ]
  },
  {
   "cell_type": "code",
   "execution_count": null,
   "metadata": {
    "collapsed": true
   },
   "outputs": [],
   "source": [
    "err = [trial() for _ in range(20)]"
   ]
  },
  {
   "cell_type": "code",
   "execution_count": null,
   "metadata": {
    "collapsed": false
   },
   "outputs": [],
   "source": [
    "conn.weights"
   ]
  },
  {
   "cell_type": "code",
   "execution_count": null,
   "metadata": {
    "collapsed": false
   },
   "outputs": [],
   "source": [
    "graphs.line(range(1000), err, \"Average error over trials\", width=600)"
   ]
  },
  {
   "cell_type": "markdown",
   "metadata": {},
   "source": [
    " "
   ]
  }
 ],
 "metadata": {
  "kernelspec": {
   "display_name": "Python 3",
   "language": "python",
   "name": "python4"
  },
  "language_info": {
   "codemirror_mode": {
    "name": "ipython",
    "version": 3
   },
   "file_extension": ".py",
   "mimetype": "text/x-python",
   "name": "python",
   "nbconvert_exporter": "python",
   "pygments_lexer": "ipython3",
   "version": "3.5.1"
  }
 },
 "nbformat": 4,
 "nbformat_minor": 0
}
